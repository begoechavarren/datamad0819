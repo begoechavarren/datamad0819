{
 "cells": [
  {
   "cell_type": "markdown",
   "metadata": {},
   "source": [
    "# Before your start:\n",
    "- Read the README.md file\n",
    "- Comment as much as you can and use the resources (README.md file)\n",
    "- Happy learning!"
   ]
  },
  {
   "cell_type": "code",
   "execution_count": 1,
   "metadata": {},
   "outputs": [],
   "source": [
    "# Run this code:\n",
    "\n",
    "%matplotlib inline\n",
    "import matplotlib.pyplot as plt"
   ]
  },
  {
   "cell_type": "code",
   "execution_count": 2,
   "metadata": {},
   "outputs": [],
   "source": [
    "# Import numpy and pandas:\n",
    "import numpy as np\n",
    "import pandas as pd\n"
   ]
  },
  {
   "cell_type": "markdown",
   "metadata": {},
   "source": [
    "# Challenge 1 - Reading and Standardizing the Data\n",
    "\n",
    "In this challenge we will work with image data and reduce the dimensions of the data to create a 2 dimensional plot. While we have not worked much with image data before, it can be represented as a numpy array where each pixel is assigned a numeric value. In this lesson, we will look at a dataset of cats and a dataset of dogs and see whether reducing them to two dimensions allows us to see if the data is separable. We will start by loading and processing the data. Run the cell below to load the two csv files and convert them into numpy arrays."
   ]
  },
  {
   "cell_type": "code",
   "execution_count": 3,
   "metadata": {},
   "outputs": [
    {
     "data": {
      "text/plain": [
       "array([[ 64,  23, 250, ...,  60, 223, 101],\n",
       "       [ 64,  23, 250, ...,  50, 224, 107],\n",
       "       [ 64,  20, 250, ...,  63, 225, 106],\n",
       "       ...,\n",
       "       [ 64,  31, 244, ..., 105, 180, 114],\n",
       "       [ 64,  23, 232, ..., 118, 182,  91],\n",
       "       [ 61,   9, 244, ..., 104, 177, 113]])"
      ]
     },
     "execution_count": 3,
     "metadata": {},
     "output_type": "execute_result"
    }
   ],
   "source": [
    "# Run this code\n",
    "cats = np.array(pd.read_csv(\"https://raw.githubusercontent.com/bioramble/pca/master/cat.csv\", header=None))\n",
    "dogs = np.array(pd.read_csv(\"https://raw.githubusercontent.com/bioramble/pca/master/dog.csv\", header=None))\n",
    "cats"
   ]
  },
  {
   "cell_type": "markdown",
   "metadata": {},
   "source": [
    "Next, we'll examine the shape of both the cats and the dogs arrays. Print out both shapes below."
   ]
  },
  {
   "cell_type": "code",
   "execution_count": 4,
   "metadata": {},
   "outputs": [
    {
     "name": "stdout",
     "output_type": "stream",
     "text": [
      "(4096, 80)\n",
      "(4096, 80)\n"
     ]
    }
   ],
   "source": [
    "print(cats.shape)\n",
    "print(dogs.shape)"
   ]
  },
  {
   "cell_type": "markdown",
   "metadata": {},
   "source": [
    "What this means is that both arrays contain 80 images each (the number of columns). Each image is comprised of 64x64 pixels (so a total of 4096 pixels per image). The images have been flattened such that all 4096 are in a single row.\n",
    "\n",
    "Print out column 0 of the cats array to see what the pixels values look like."
   ]
  },
  {
   "cell_type": "code",
   "execution_count": 5,
   "metadata": {},
   "outputs": [
    {
     "name": "stdout",
     "output_type": "stream",
     "text": [
      "[ 64  23 250 137  55 173  18 134  19  47 109 164  41  78 108 108 247 105\n",
      " 158  54 103   4  23 102 239  72  42  21 168 109 112 177  22 233  15 236\n",
      " 250 137  32   5 178 109  24 107  53 241 226 143   5 136  98 100  89  66\n",
      " 228  92 255  88 230  56 160  69   6  24 195 183 239  35 154 154 122  18\n",
      "  87 106 174  69  28  60 223 101]\n"
     ]
    }
   ],
   "source": [
    "print(cats[0]) #first pixel, data for all images"
   ]
  },
  {
   "cell_type": "markdown",
   "metadata": {},
   "source": [
    "Using `matplotlib` we can plot a single cat or a single dog. We do this by reshaping the vector back to a 64x64 image and then using the `imshow` function.\n",
    "\n",
    "Run the code below to look at the first dog and the first cat."
   ]
  },
  {
   "cell_type": "code",
   "execution_count": 6,
   "metadata": {
    "scrolled": true
   },
   "outputs": [
    {
     "name": "stdout",
     "output_type": "stream",
     "text": [
      "[0 1 2 3 4 5]\n",
      "[[0 1 2]\n",
      " [3 4 5]]\n"
     ]
    },
    {
     "data": {
      "image/png": "[encoded data removed]",
      "text/plain": [
       "<Figure size 432x288 with 1 Axes>"
      ]
     },
     "metadata": {
      "needs_background": "light"
     },
     "output_type": "display_data"
    }
   ],
   "source": [
    "fig, ax = plt.subplots()\n",
    "ax.imshow(cats[:,0].reshape(64, 64).T, cmap=plt.cm.bone, interpolation='nearest') \n",
    "\n",
    "#[:,0] --> [:] cógeme todos , [0] y dentro de cada uno, el elemento con índice 0\n",
    "\n",
    "#ejemplo de reshape\n",
    "a = np.arange(6)\n",
    "print(a)\n",
    "a = a.reshape((2, 3))\n",
    "print(a)\n",
    "\n",
    "#T --> traspose porque si no el gato queda de lado\n",
    "\n",
    "#cmap=plt.cm.bone --> blanco y negro\n",
    "\n",
    "#interpolation='nearest' simply displays an image without trying to interpolate between pixels if the display resolution is not the same as the image resolution (which is most often the case). It will result an image in which pixels are displayed as a square of multiple pixels.\n"
   ]
  },
  {
   "cell_type": "code",
   "execution_count": 7,
   "metadata": {},
   "outputs": [
    {
     "data": {
      "text/plain": [
       "<matplotlib.image.AxesImage at 0x108ca6a90>"
      ]
     },
     "execution_count": 7,
     "metadata": {},
     "output_type": "execute_result"
    },
    {
     "data": {
      "image/png": "[encoded data removed]",
      "text/plain": [
       "<Figure size 432x288 with 1 Axes>"
      ]
     },
     "metadata": {
      "needs_background": "light"
     },
     "output_type": "display_data"
    }
   ],
   "source": [
    "fig, ax = plt.subplots()\n",
    "ax.imshow(dogs[:,0].reshape(64, 64).T, cmap=plt.cm.bone, interpolation='nearest') "
   ]
  },
  {
   "cell_type": "markdown",
   "metadata": {},
   "source": [
    "Next, we would like to create a standardization function. This function will find the mean and standard deviation of each image. We subtract the mean from each pixel and divide each pixel by the standard deviation. Write the function below.\n",
    "\n",
    "Hint: To find the mean and standard deviation of each image, use `numpy`'s version of mean and stadnard deviation and use `axis=0`."
   ]
  },
  {
   "cell_type": "code",
   "execution_count": 8,
   "metadata": {},
   "outputs": [
    {
     "data": {
      "text/plain": [
       "array([[-1., -1., -1.],\n",
       "       [ 1.,  1.,  1.]])"
      ]
     },
     "execution_count": 8,
     "metadata": {},
     "output_type": "execute_result"
    }
   ],
   "source": [
    "from sklearn import preprocessing\n",
    "\n",
    "def standardize(x):\n",
    "    #This function takes as input a numpy array and returns a stadardized numpy array of the same dimensions.\n",
    "    #Sample input: np.array([[1,2,3],[4,5,6]])\n",
    "    #Sample output: np.array([[-1,-1,-1],[1,1,1]])\n",
    "    mean= np.mean(x,axis = 0)\n",
    "    std = np.std(x,axis=0)\n",
    "    return (x-mean)/std\n",
    "    \n",
    "    #other way\n",
    "    min_max_scaler = preprocessing.StandardScaler()\n",
    "    x_scaled = min_max_scaler.fit_transform(x)\n",
    "    return x_scaled\n",
    "    \n",
    "a = np.array([[1,2,3],[4,5,6]])\n",
    "standardize(a)"
   ]
  },
  {
   "cell_type": "markdown",
   "metadata": {},
   "source": [
    "Now, use the `np.concatenate` function to combine the cats and dogs arrays. Use `axis=1` to combine the two correctly. Make sure to put dogs first."
   ]
  },
  {
   "cell_type": "code",
   "execution_count": 9,
   "metadata": {},
   "outputs": [
    {
     "name": "stdout",
     "output_type": "stream",
     "text": [
      "[224 131 127 126 136  17 167  61  88 184  36 127 119  53 129  81  94 157\n",
      " 110   3  13   4 161   9  97   1  22 181   6 187  38 140  86  50  11  77\n",
      "   0  81  32 165  27 156  72 149  97 247 189 178 189   0 164 254  56  17\n",
      " 143  22 154 205  31  18 118 166 222  10 112 200  28   0  72   2   1 101\n",
      "   0   1 103 206   3   6  30 197  64  23 250 137  55 173  18 134  19  47\n",
      " 109 164  41  78 108 108 247 105 158  54 103   4  23 102 239  72  42  21\n",
      " 168 109 112 177  22 233  15 236 250 137  32   5 178 109  24 107  53 241\n",
      " 226 143   5 136  98 100  89  66 228  92 255  88 230  56 160  69   6  24\n",
      " 195 183 239  35 154 154 122  18  87 106 174  69  28  60 223 101]\n"
     ]
    }
   ],
   "source": [
    "\"\"\"ejemplo de np.concatenate\n",
    "a = np.array([[1, 2], [3, 4]])\n",
    "b = np.array([[5, 6]])\n",
    "print(np.concatenate((a, b), axis=0), \"\\n\")\n",
    "print(np.concatenate((a, b.T), axis=1), \"\\n\")\n",
    "print(np.concatenate((a, b), axis=None))\"\"\"\n",
    "\n",
    "pets = np.concatenate((dogs, cats), axis=1)\n",
    "\n",
    "print(pets[0]) #first pixel, data for all images (dogs and cats)"
   ]
  },
  {
   "cell_type": "markdown",
   "metadata": {},
   "source": [
    "Standardize the concatenated array below."
   ]
  },
  {
   "cell_type": "code",
   "execution_count": 10,
   "metadata": {
    "scrolled": false
   },
   "outputs": [
    {
     "name": "stdout",
     "output_type": "stream",
     "text": [
      "[ 2.37662907 -0.30753004  0.93254857 -0.30515588  0.58779816 -1.2410672\n",
      "  0.40174    -1.0382953  -0.24093584  1.18951595 -1.39002703  1.2035241\n",
      " -0.91780851 -0.65233857  0.21409948 -0.55742731 -0.11894995  0.57760885\n",
      "  0.25066588 -1.26576449 -1.28876623 -1.60635214  1.57810973 -2.08436\n",
      " -0.78273755 -1.92160978 -0.9525075   1.52724828 -1.20886777  0.65417645\n",
      " -1.54269112 -0.24812732 -0.52964926 -2.02200115 -1.54464976 -1.13501706\n",
      " -2.20683157 -1.33178389 -1.98489704  0.27990359 -1.85134553  1.82704939\n",
      " -1.85956811 -0.05720659 -0.65409139  1.73173534  0.56017097  0.3647689\n",
      "  0.97496023 -2.45196441  0.88384984  3.39534808  0.08822367 -1.47008747\n",
      "  0.36291312 -1.12153179  0.91205362  1.96792908 -1.20126292 -1.85817305\n",
      " -0.14132412  1.19123712  1.31726898 -1.66159487 -1.04560429  0.93769802\n",
      " -0.81971811 -1.42122609 -0.94074782 -1.91809219 -2.44182959 -0.80837759\n",
      " -1.65538551 -3.23323767 -0.05822786  1.50020123 -1.81395653 -1.20040955\n",
      " -1.96502931  1.40507148  0.08483333 -1.50629151  1.80099272  1.43363202\n",
      " -0.24261528  0.77724469 -1.14075696  0.69507199 -1.58713199 -1.19762528\n",
      " -0.45578272 -0.12882989 -1.48890725 -0.13093046 -0.28218907 -0.21292752\n",
      "  2.45299663  0.3784883   1.35370214 -1.93602292  0.86421208 -1.6854706\n",
      " -2.19229424 -1.26891378  2.36964728 -0.9072092  -0.90160329 -2.36567542\n",
      "  0.84192841 -0.01945102  0.50187668  1.38197065 -1.15222148  1.94265179\n",
      " -2.14421318  1.20195464  2.258456   -0.11836705 -1.80703709 -0.7810737\n",
      "  0.86912647  0.48715823 -1.93463329 -1.48574857 -1.59677183  1.61284225\n",
      "  1.05852386 -0.15672934 -1.70267507  0.94654876  0.43480601 -0.15280088\n",
      " -0.45172627 -1.22895052  1.52696597 -0.56202478  1.79215731 -0.7412813\n",
      "  2.20642712 -2.0327414   0.72998652 -0.49402989 -1.30925783 -1.97565349\n",
      "  0.90354346  1.2429442   2.05135657 -0.88930512  0.69346272  0.00576157\n",
      "  0.08199086 -1.7521382  -0.25929941 -0.13339312  1.03956538 -1.04856168\n",
      " -1.76384423 -1.80817356  1.42293481 -0.20363951]\n"
     ]
    }
   ],
   "source": [
    "std_pets = standardize(pets)\n",
    "print(std_pets[0]) #first pixel, data for all images (dogs and cats)"
   ]
  },
  {
   "cell_type": "markdown",
   "metadata": {},
   "source": [
    "# Challenge 2 - Using PCA\n",
    "\n",
    "Now that we have created a standardized matrix of cats and dogs, we'll find the two most important components in the data.\n",
    "\n",
    "Load the `PCA` function from `statsmodels` (read about this function [here](https://www.statsmodels.org/dev/generated/statsmodels.multivariate.pca.PCA.html)) and apply the function to our standarized data. Create a PCA model with two components."
   ]
  },
  {
   "cell_type": "markdown",
   "metadata": {},
   "source": [
    "## 2.1) Statsmodels"
   ]
  },
  {
   "cell_type": "code",
   "execution_count": 11,
   "metadata": {},
   "outputs": [
    {
     "name": "stdout",
     "output_type": "stream",
     "text": [
      "(4096, 2)\n"
     ]
    },
    {
     "data": {
      "text/html": [
       "<div>\n",
       "<style scoped>\n",
       "    .dataframe tbody tr th:only-of-type {\n",
       "        vertical-align: middle;\n",
       "    }\n",
       "\n",
       "    .dataframe tbody tr th {\n",
       "        vertical-align: top;\n",
       "    }\n",
       "\n",
       "    .dataframe thead th {\n",
       "        text-align: right;\n",
       "    }\n",
       "</style>\n",
       "<table border=\"1\" class=\"dataframe\">\n",
       "  <thead>\n",
       "    <tr style=\"text-align: right;\">\n",
       "      <th></th>\n",
       "      <th>0</th>\n",
       "      <th>1</th>\n",
       "    </tr>\n",
       "  </thead>\n",
       "  <tbody>\n",
       "    <tr>\n",
       "      <th>0</th>\n",
       "      <td>-0.029776</td>\n",
       "      <td>0.035928</td>\n",
       "    </tr>\n",
       "    <tr>\n",
       "      <th>1</th>\n",
       "      <td>-0.030209</td>\n",
       "      <td>0.034863</td>\n",
       "    </tr>\n",
       "    <tr>\n",
       "      <th>2</th>\n",
       "      <td>-0.030242</td>\n",
       "      <td>0.035506</td>\n",
       "    </tr>\n",
       "    <tr>\n",
       "      <th>3</th>\n",
       "      <td>-0.030226</td>\n",
       "      <td>0.036113</td>\n",
       "    </tr>\n",
       "    <tr>\n",
       "      <th>4</th>\n",
       "      <td>-0.030860</td>\n",
       "      <td>0.035258</td>\n",
       "    </tr>\n",
       "  </tbody>\n",
       "</table>\n",
       "</div>"
      ],
      "text/plain": [
       "          0         1\n",
       "0 -0.029776  0.035928\n",
       "1 -0.030209  0.034863\n",
       "2 -0.030242  0.035506\n",
       "3 -0.030226  0.036113\n",
       "4 -0.030860  0.035258"
      ]
     },
     "metadata": {},
     "output_type": "display_data"
    }
   ],
   "source": [
    "from statsmodels.multivariate.pca import PCA\n",
    "\n",
    "pca = PCA(std_pets, ncomp=2)\n",
    "factors = pca.factors\n",
    "\n",
    "print(factors.shape)\n",
    "display(pd.DataFrame(factors).head())"
   ]
  },
  {
   "cell_type": "markdown",
   "metadata": {},
   "source": [
    "Use `numpy` to find to transpose the standardized pet array. This will help us compute the projection."
   ]
  },
  {
   "cell_type": "code",
   "execution_count": 12,
   "metadata": {},
   "outputs": [
    {
     "data": {
      "text/html": [
       "<div>\n",
       "<style scoped>\n",
       "    .dataframe tbody tr th:only-of-type {\n",
       "        vertical-align: middle;\n",
       "    }\n",
       "\n",
       "    .dataframe tbody tr th {\n",
       "        vertical-align: top;\n",
       "    }\n",
       "\n",
       "    .dataframe thead th {\n",
       "        text-align: right;\n",
       "    }\n",
       "</style>\n",
       "<table border=\"1\" class=\"dataframe\">\n",
       "  <thead>\n",
       "    <tr style=\"text-align: right;\">\n",
       "      <th></th>\n",
       "      <th>0</th>\n",
       "      <th>1</th>\n",
       "      <th>2</th>\n",
       "      <th>3</th>\n",
       "      <th>4</th>\n",
       "      <th>5</th>\n",
       "      <th>6</th>\n",
       "      <th>7</th>\n",
       "      <th>8</th>\n",
       "      <th>9</th>\n",
       "      <th>...</th>\n",
       "      <th>4086</th>\n",
       "      <th>4087</th>\n",
       "      <th>4088</th>\n",
       "      <th>4089</th>\n",
       "      <th>4090</th>\n",
       "      <th>4091</th>\n",
       "      <th>4092</th>\n",
       "      <th>4093</th>\n",
       "      <th>4094</th>\n",
       "      <th>4095</th>\n",
       "    </tr>\n",
       "  </thead>\n",
       "  <tbody>\n",
       "    <tr>\n",
       "      <th>0</th>\n",
       "      <td>2.376629</td>\n",
       "      <td>2.376629</td>\n",
       "      <td>2.376629</td>\n",
       "      <td>2.272642</td>\n",
       "      <td>2.376629</td>\n",
       "      <td>2.185985</td>\n",
       "      <td>1.839360</td>\n",
       "      <td>1.839360</td>\n",
       "      <td>1.648716</td>\n",
       "      <td>1.648716</td>\n",
       "      <td>...</td>\n",
       "      <td>0.816816</td>\n",
       "      <td>1.059454</td>\n",
       "      <td>0.452859</td>\n",
       "      <td>0.019578</td>\n",
       "      <td>-0.673672</td>\n",
       "      <td>-0.916310</td>\n",
       "      <td>-0.465697</td>\n",
       "      <td>0.227553</td>\n",
       "      <td>0.227553</td>\n",
       "      <td>0.227553</td>\n",
       "    </tr>\n",
       "    <tr>\n",
       "      <th>1</th>\n",
       "      <td>-0.307530</td>\n",
       "      <td>-0.405003</td>\n",
       "      <td>-0.683497</td>\n",
       "      <td>-0.794895</td>\n",
       "      <td>-0.892368</td>\n",
       "      <td>0.165910</td>\n",
       "      <td>0.736823</td>\n",
       "      <td>0.708974</td>\n",
       "      <td>0.708974</td>\n",
       "      <td>1.112790</td>\n",
       "      <td>...</td>\n",
       "      <td>-0.405003</td>\n",
       "      <td>-0.599949</td>\n",
       "      <td>-0.794895</td>\n",
       "      <td>-0.794895</td>\n",
       "      <td>-0.599949</td>\n",
       "      <td>-0.405003</td>\n",
       "      <td>-0.683497</td>\n",
       "      <td>-0.683497</td>\n",
       "      <td>-0.405003</td>\n",
       "      <td>-0.405003</td>\n",
       "    </tr>\n",
       "    <tr>\n",
       "      <th>2</th>\n",
       "      <td>0.932549</td>\n",
       "      <td>1.156817</td>\n",
       "      <td>0.932549</td>\n",
       "      <td>1.156817</td>\n",
       "      <td>2.627023</td>\n",
       "      <td>1.779786</td>\n",
       "      <td>1.156817</td>\n",
       "      <td>1.156817</td>\n",
       "      <td>0.932549</td>\n",
       "      <td>0.932549</td>\n",
       "      <td>...</td>\n",
       "      <td>-0.014364</td>\n",
       "      <td>0.359418</td>\n",
       "      <td>-0.014364</td>\n",
       "      <td>0.359418</td>\n",
       "      <td>0.359418</td>\n",
       "      <td>0.359418</td>\n",
       "      <td>0.359418</td>\n",
       "      <td>0.633524</td>\n",
       "      <td>0.359418</td>\n",
       "      <td>0.359418</td>\n",
       "    </tr>\n",
       "    <tr>\n",
       "      <th>3</th>\n",
       "      <td>-0.305156</td>\n",
       "      <td>-0.327394</td>\n",
       "      <td>-0.327394</td>\n",
       "      <td>-0.727689</td>\n",
       "      <td>-1.016790</td>\n",
       "      <td>-1.039028</td>\n",
       "      <td>-1.039028</td>\n",
       "      <td>-1.039028</td>\n",
       "      <td>-1.016790</td>\n",
       "      <td>-0.727689</td>\n",
       "      <td>...</td>\n",
       "      <td>-2.973784</td>\n",
       "      <td>-2.818114</td>\n",
       "      <td>-2.640205</td>\n",
       "      <td>-2.573489</td>\n",
       "      <td>-1.906333</td>\n",
       "      <td>-1.417084</td>\n",
       "      <td>-1.417084</td>\n",
       "      <td>-1.417084</td>\n",
       "      <td>-1.283653</td>\n",
       "      <td>-1.039028</td>\n",
       "    </tr>\n",
       "    <tr>\n",
       "      <th>4</th>\n",
       "      <td>0.587798</td>\n",
       "      <td>0.403992</td>\n",
       "      <td>0.403992</td>\n",
       "      <td>0.587798</td>\n",
       "      <td>0.934988</td>\n",
       "      <td>0.587798</td>\n",
       "      <td>0.812451</td>\n",
       "      <td>0.812451</td>\n",
       "      <td>0.587798</td>\n",
       "      <td>0.587798</td>\n",
       "      <td>...</td>\n",
       "      <td>0.403992</td>\n",
       "      <td>0.587798</td>\n",
       "      <td>0.301877</td>\n",
       "      <td>0.301877</td>\n",
       "      <td>0.301877</td>\n",
       "      <td>0.403992</td>\n",
       "      <td>0.138493</td>\n",
       "      <td>-0.269966</td>\n",
       "      <td>-0.269966</td>\n",
       "      <td>0.015955</td>\n",
       "    </tr>\n",
       "  </tbody>\n",
       "</table>\n",
       "<p>5 rows × 4096 columns</p>\n",
       "</div>"
      ],
      "text/plain": [
       "       0         1         2         3         4         5         6     \\\n",
       "0  2.376629  2.376629  2.376629  2.272642  2.376629  2.185985  1.839360   \n",
       "1 -0.307530 -0.405003 -0.683497 -0.794895 -0.892368  0.165910  0.736823   \n",
       "2  0.932549  1.156817  0.932549  1.156817  2.627023  1.779786  1.156817   \n",
       "3 -0.305156 -0.327394 -0.327394 -0.727689 -1.016790 -1.039028 -1.039028   \n",
       "4  0.587798  0.403992  0.403992  0.587798  0.934988  0.587798  0.812451   \n",
       "\n",
       "       7         8         9     ...      4086      4087      4088      4089  \\\n",
       "0  1.839360  1.648716  1.648716  ...  0.816816  1.059454  0.452859  0.019578   \n",
       "1  0.708974  0.708974  1.112790  ... -0.405003 -0.599949 -0.794895 -0.794895   \n",
       "2  1.156817  0.932549  0.932549  ... -0.014364  0.359418 -0.014364  0.359418   \n",
       "3 -1.039028 -1.016790 -0.727689  ... -2.973784 -2.818114 -2.640205 -2.573489   \n",
       "4  0.812451  0.587798  0.587798  ...  0.403992  0.587798  0.301877  0.301877   \n",
       "\n",
       "       4090      4091      4092      4093      4094      4095  \n",
       "0 -0.673672 -0.916310 -0.465697  0.227553  0.227553  0.227553  \n",
       "1 -0.599949 -0.405003 -0.683497 -0.683497 -0.405003 -0.405003  \n",
       "2  0.359418  0.359418  0.359418  0.633524  0.359418  0.359418  \n",
       "3 -1.906333 -1.417084 -1.417084 -1.417084 -1.283653 -1.039028  \n",
       "4  0.301877  0.403992  0.138493 -0.269966 -0.269966  0.015955  \n",
       "\n",
       "[5 rows x 4096 columns]"
      ]
     },
     "metadata": {},
     "output_type": "display_data"
    },
    {
     "data": {
      "text/plain": [
       "(160, 4096)"
      ]
     },
     "execution_count": 12,
     "metadata": {},
     "output_type": "execute_result"
    }
   ],
   "source": [
    "t_std_pets = np.transpose(std_pets)\n",
    "\n",
    "display(pd.DataFrame(t_std_pets).head())\n",
    "t_std_pets.shape\n"
   ]
  },
  {
   "cell_type": "markdown",
   "metadata": {},
   "source": [
    "Find the dot product of the transposed standardized pet matrix and the `factors` of the `PCA` model found above. This will be the projection onto 2 dimensions. This means that each cat and dog image will now only have two columns instead of 4096."
   ]
  },
  {
   "cell_type": "code",
   "execution_count": 13,
   "metadata": {
    "scrolled": false
   },
   "outputs": [],
   "source": [
    "dot_product = np.dot(t_std_pets,factors)\n",
    "\n",
    "# MATRIX MULTIPLICATION: t_std_pets(4096 x 2) * factors(160 x 4096) = dot_product(160 x 2)"
   ]
  },
  {
   "cell_type": "code",
   "execution_count": 14,
   "metadata": {},
   "outputs": [
    {
     "data": {
      "text/plain": [
       "(160, 2)"
      ]
     },
     "execution_count": 14,
     "metadata": {},
     "output_type": "execute_result"
    }
   ],
   "source": [
    "dot_product.shape"
   ]
  },
  {
   "cell_type": "markdown",
   "metadata": {},
   "source": [
    "# Challenge 3 - Plotting the Data\n",
    "\n",
    "Now that we have reduced our cats and dogs arrays, we can easily plot the data in a way that the human eye can understand. We can look at this plot to see whether there are differences between the cat and dog images. \n",
    "\n",
    "In the cell below, turn the two dimensional projection into a pandas dataframe and name the columns `pc1`, and `pc2` respectively."
   ]
  },
  {
   "cell_type": "code",
   "execution_count": 15,
   "metadata": {},
   "outputs": [
    {
     "data": {
      "text/html": [
       "<div>\n",
       "<style scoped>\n",
       "    .dataframe tbody tr th:only-of-type {\n",
       "        vertical-align: middle;\n",
       "    }\n",
       "\n",
       "    .dataframe tbody tr th {\n",
       "        vertical-align: top;\n",
       "    }\n",
       "\n",
       "    .dataframe thead th {\n",
       "        text-align: right;\n",
       "    }\n",
       "</style>\n",
       "<table border=\"1\" class=\"dataframe\">\n",
       "  <thead>\n",
       "    <tr style=\"text-align: right;\">\n",
       "      <th></th>\n",
       "      <th>pc1</th>\n",
       "      <th>pc2</th>\n",
       "    </tr>\n",
       "  </thead>\n",
       "  <tbody>\n",
       "    <tr>\n",
       "      <th>0</th>\n",
       "      <td>-42.477618</td>\n",
       "      <td>14.718214</td>\n",
       "    </tr>\n",
       "    <tr>\n",
       "      <th>1</th>\n",
       "      <td>-32.188707</td>\n",
       "      <td>-19.266296</td>\n",
       "    </tr>\n",
       "    <tr>\n",
       "      <th>2</th>\n",
       "      <td>12.963227</td>\n",
       "      <td>-18.021975</td>\n",
       "    </tr>\n",
       "    <tr>\n",
       "      <th>3</th>\n",
       "      <td>-5.083062</td>\n",
       "      <td>-32.955571</td>\n",
       "    </tr>\n",
       "    <tr>\n",
       "      <th>4</th>\n",
       "      <td>-32.866232</td>\n",
       "      <td>4.119687</td>\n",
       "    </tr>\n",
       "  </tbody>\n",
       "</table>\n",
       "</div>"
      ],
      "text/plain": [
       "         pc1        pc2\n",
       "0 -42.477618  14.718214\n",
       "1 -32.188707 -19.266296\n",
       "2  12.963227 -18.021975\n",
       "3  -5.083062 -32.955571\n",
       "4 -32.866232   4.119687"
      ]
     },
     "execution_count": 15,
     "metadata": {},
     "output_type": "execute_result"
    }
   ],
   "source": [
    "df = pd.DataFrame(dot_product, columns = ['pc1', 'pc2'])\n",
    "df.head()"
   ]
  },
  {
   "cell_type": "markdown",
   "metadata": {},
   "source": [
    "Create a labels list. This list will be of size 160. The first 80 elements in the list will be the word `blue`, and the last 80 elements will be `red`. This will ensure that all dog observations will be colored in blue and all cats will be colored in red. Name this list `colors`."
   ]
  },
  {
   "cell_type": "code",
   "execution_count": 16,
   "metadata": {},
   "outputs": [],
   "source": [
    "colors =[\"blue\"]*80+[\"red\"]*80\n"
   ]
  },
  {
   "cell_type": "markdown",
   "metadata": {},
   "source": [
    "Create a scatter plot of `pc1` and `pc2` below. Use the `colors` list above to color the observations by setting `c=colors`."
   ]
  },
  {
   "cell_type": "code",
   "execution_count": 17,
   "metadata": {},
   "outputs": [
    {
     "data": {
      "text/plain": [
       "<matplotlib.legend.Legend at 0x11337b390>"
      ]
     },
     "execution_count": 17,
     "metadata": {},
     "output_type": "execute_result"
    },
    {
     "data": {
      "image/png": "[encoded data removed]",
      "text/plain": [
       "<Figure size 432x288 with 1 Axes>"
      ]
     },
     "metadata": {
      "needs_background": "light"
     },
     "output_type": "display_data"
    }
   ],
   "source": [
    "df.plot.scatter(\"pc1\",\"pc2\",c= colors)\n",
    "plt.title(\"Statsmodels PCA\")\n",
    "plt.legend([\"dog\", \"cat\"])"
   ]
  },
  {
   "cell_type": "markdown",
   "metadata": {},
   "source": [
    "Do you see a clear separation between cats and dogs? Write your answer below."
   ]
  },
  {
   "cell_type": "code",
   "execution_count": 18,
   "metadata": {},
   "outputs": [],
   "source": [
    "# I can see the separation, although probably with more features it will be even more clear"
   ]
  },
  {
   "cell_type": "markdown",
   "metadata": {},
   "source": [
    "# Comparison Statsmodels - Sklearn"
   ]
  },
  {
   "cell_type": "code",
   "execution_count": 21,
   "metadata": {},
   "outputs": [
    {
     "data": {
      "text/plain": [
       "Text(0.5, 1.0, 'Sklearn Statsmodels')"
      ]
     },
     "execution_count": 21,
     "metadata": {},
     "output_type": "execute_result"
    },
    {
     "data": {
      "image/png": "[encoded data removed]",
      "text/plain": [
       "<Figure size 432x288 with 1 Axes>"
      ]
     },
     "metadata": {
      "needs_background": "light"
     },
     "output_type": "display_data"
    }
   ],
   "source": [
    "from statsmodels.multivariate.pca import PCA\n",
    "\n",
    "pca = PCA(std_pets, ncomp=2)\n",
    "factors = pca.factors\n",
    "t_std_pets = np.transpose(std_pets)\n",
    "dot_product = np.dot(t_std_pets,factors)\n",
    "df = pd.DataFrame(dot_product, columns = ['pc1', 'pc2'])\n",
    "\n",
    "df.plot.scatter(\"pc1\",\"pc2\",c= colors)\n",
    "plt.title(\"Sklearn Statsmodels\")"
   ]
  },
  {
   "cell_type": "code",
   "execution_count": 22,
   "metadata": {},
   "outputs": [
    {
     "data": {
      "text/plain": [
       "Text(0.5, 1.0, 'Sklearn PCA')"
      ]
     },
     "execution_count": 22,
     "metadata": {},
     "output_type": "execute_result"
    },
    {
     "data": {
      "image/png": "[encoded data removed]",
      "text/plain": [
       "<Figure size 432x288 with 1 Axes>"
      ]
     },
     "metadata": {
      "needs_background": "light"
     },
     "output_type": "display_data"
    }
   ],
   "source": [
    "from sklearn import decomposition\n",
    "\n",
    "pca = decomposition.PCA(n_components=2)\n",
    "pca.fit(std_pets.T) # fit = multiplicación matricial del dataset por el factor del pca\n",
    "df2 = pd.DataFrame(pca.transform(np.array(std_pets).T), columns=['pc1', 'pc2'])\n",
    "\n",
    "df.plot.scatter(\"pc1\",\"pc2\",c= colors)\n",
    "plt.title(\"Sklearn PCA\")"
   ]
  }
 ],
 "metadata": {
  "kernelspec": {
   "display_name": "Python 3",
   "language": "python",
   "name": "python3"
  },
  "language_info": {
   "codemirror_mode": {
    "name": "ipython",
    "version": 3
   },
   "file_extension": ".py",
   "mimetype": "text/x-python",
   "name": "python",
   "nbconvert_exporter": "python",
   "pygments_lexer": "ipython3",
   "version": "3.7.4"
  }
 },
 "nbformat": 4,
 "nbformat_minor": 2
}
